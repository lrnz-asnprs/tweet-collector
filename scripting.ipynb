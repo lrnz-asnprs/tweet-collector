{
 "cells": [
  {
   "cell_type": "code",
   "execution_count": 2,
   "metadata": {},
   "outputs": [],
   "source": [
    "#regex for special characters\n",
    "from random import random\n",
    "#from modules.tweet_collector import *\n",
    "import os, re, pandas as pd\n",
    "from datetime import datetime"
   ]
  },
  {
   "cell_type": "code",
   "execution_count": 3,
   "metadata": {},
   "outputs": [
    {
     "data": {
      "text/plain": [
       "'CDC \"will revoke the emergency use authorization\" of the PCR COVID tests because those tests don\\'t differentiate between COVID and flu viruses. \"Translation: They\\'ve been adding flu cases to Covid cases when using that test.”'"
      ]
     },
     "execution_count": 3,
     "metadata": {},
     "output_type": "execute_result"
    }
   ],
   "source": [
    "\n",
    "main_path = os.getcwd()\n",
    "\n",
    "politifact = pd.read_csv(main_path+\"/data/fakenews_sources/politifact_scape_2609.csv\")\n",
    "\n",
    "dont_sample = politifact[politifact.claim.str.contains('don\\'t')]\n",
    "\n",
    "sample = dont_sample.sample(10, random_state=42).reset_index()\n",
    "\n",
    "sample.claim[4]"
   ]
  },
  {
   "cell_type": "code",
   "execution_count": 4,
   "metadata": {},
   "outputs": [],
   "source": [
    "#Cleaning step 1 - getting rid of \\n appearances and weird spaces\n",
    "sample['claim'] = sample.claim.apply(lambda x: x.strip())\n",
    "\n",
    "#Cleaning from all special characters - perhaps find trick like \\w\\'\\w is to avoid removing the \\' in don't, won't they've etc.\n",
    "sample['claim'] = sample.claim.apply(lambda x: re.sub(r'[^a-zA-Z0-9 ]', '', x))\n",
    "\n",
    "#Removing \"Says\" in the beginning of a statement around a thoussand in the sample have this structure.\n",
    "sample['claim'] = sample.claim.apply(lambda x: re.sub(r'^Says ', '', x))\n",
    "\n",
    "\n",
    "#Resources and ideas\n",
    "#https://datagy.io/python-remove-special-characters-from-string/\n",
    "\n",
    "# #alternative approach\n",
    "# sample['clean_claim'] = sample.claim.apply(lambda x: [re.sub(r\"[^a-zA-Z0-9]+\", ' ', k) for k in x.split(\"\\n\")][0].strip())"
   ]
  },
  {
   "cell_type": "code",
   "execution_count": 5,
   "metadata": {},
   "outputs": [
    {
     "data": {
      "text/plain": [
       "'CDC will revoke the emergency use authorization of the PCR COVID tests because those tests dont differentiate between COVID and flu viruses Translation Theyve been adding flu cases to Covid cases when using that test'"
      ]
     },
     "execution_count": 5,
     "metadata": {},
     "output_type": "execute_result"
    }
   ],
   "source": [
    "sample.claim[4]"
   ]
  },
  {
   "cell_type": "code",
   "execution_count": 70,
   "metadata": {},
   "outputs": [],
   "source": [
    "date = 'November 25, 2018'\n",
    "datet = str(datetime.strptime(date, '%B %d, %Y').isoformat()+\"Z\")\n",
    "\n"
   ]
  },
  {
   "cell_type": "code",
   "execution_count": 71,
   "metadata": {},
   "outputs": [
    {
     "data": {
      "text/plain": [
       "'2018-11-25T00:00:00Z'"
      ]
     },
     "execution_count": 71,
     "metadata": {},
     "output_type": "execute_result"
    }
   ],
   "source": [
    "datet"
   ]
  },
  {
   "cell_type": "code",
   "execution_count": 53,
   "metadata": {},
   "outputs": [
    {
     "name": "stdout",
     "output_type": "stream",
     "text": [
      "<class 'datetime.date'>\n"
     ]
    }
   ],
   "source": [
    "date_str = '09-19-2018'\n",
    "\n",
    "date_object = datetime.strptime(date_str, '%m-%d-%Y')[0:-4].date()\n"
   ]
  },
  {
   "cell_type": "code",
   "execution_count": 74,
   "metadata": {},
   "outputs": [
    {
     "data": {
      "text/plain": [
       "'2022-09-29T11:19:05.86Z'"
      ]
     },
     "execution_count": 74,
     "metadata": {},
     "output_type": "execute_result"
    }
   ],
   "source": [
    "str(datetime.today().isoformat()[0:-4]+\"Z\")"
   ]
  }
 ],
 "metadata": {
  "kernelspec": {
   "display_name": "Python 3.9.7 ('base')",
   "language": "python",
   "name": "python3"
  },
  "language_info": {
   "codemirror_mode": {
    "name": "ipython",
    "version": 3
   },
   "file_extension": ".py",
   "mimetype": "text/x-python",
   "name": "python",
   "nbconvert_exporter": "python",
   "pygments_lexer": "ipython3",
   "version": "3.9.7"
  },
  "orig_nbformat": 4,
  "vscode": {
   "interpreter": {
    "hash": "36e2581dfb10b7e3de3547be529c2e8e9e4d59798f578734b808d68ebdb931d0"
   }
  }
 },
 "nbformat": 4,
 "nbformat_minor": 2
}
