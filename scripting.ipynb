{
 "cells": [
  {
   "cell_type": "code",
   "execution_count": 3,
   "metadata": {},
   "outputs": [],
   "source": [
    "#regex for special characters\n",
    "from random import random\n",
    "import os, re, pandas as pd\n",
    "from datetime import datetime\n",
    "from fake_collector.configs.directory_config import Directories\n",
    "from nltk.corpus import stopwords\n",
    "from nltk.tokenize import TweetTokenizer"
   ]
  },
  {
   "cell_type": "code",
   "execution_count": 153,
   "metadata": {},
   "outputs": [
    {
     "data": {
      "text/plain": [
       "'The United States has \"10,000 IRS agents making sure that you don\\'t take an improper charity deduction,\" but to fight terrorism, it has \"less than two dozen people focusing on countering violent extremism at home.\"'"
      ]
     },
     "execution_count": 153,
     "metadata": {},
     "output_type": "execute_result"
    }
   ],
   "source": [
    "politifact = pd.read_csv(ROOT_DIR+\"/data/fakenews_sources/politifact_scape_2609.csv\")\n",
    "\n",
    "dont_sample = politifact[politifact.claim.str.contains('don\\'t')]\n",
    "\n",
    "sample = dont_sample.sample(10, random_state=42).reset_index()\n",
    "\n",
    "test = 0\n",
    "\n",
    "sample.claim[test]"
   ]
  },
  {
   "cell_type": "code",
   "execution_count": 152,
   "metadata": {},
   "outputs": [],
   "source": [
    "def remove_excluded_words(text):\n",
    "    stop_words = set(stopwords.words('english'))\n",
    "    \n",
    "    tweet_tokenizer = TweetTokenizer()\n",
    "    word_tokens = tweet_tokenizer.tokenize(text)\n",
    "    #stopword removal\n",
    "    word_tokens = [w for w in word_tokens if not w.lower() in stop_words]\n",
    "    #special characters\n",
    "    word_tokens = [w for w in word_tokens if not re.match(r\"[^A-Za-z0-9]\", w)]\n",
    "    filtered_sentence = []\n",
    "    \n",
    "    return \" \".join(word_tokens)\n"
   ]
  },
  {
   "cell_type": "code",
   "execution_count": 155,
   "metadata": {},
   "outputs": [
    {
     "data": {
      "text/plain": [
       "'United States 10,000 IRS agents making sure take improper charity deduction fight terrorism less two dozen people focusing countering violent extremism home'"
      ]
     },
     "execution_count": 155,
     "metadata": {},
     "output_type": "execute_result"
    }
   ],
   "source": [
    "\n",
    "remove_excluded_words(sample.claim[test])"
   ]
  },
  {
   "cell_type": "code",
   "execution_count": 156,
   "metadata": {},
   "outputs": [],
   "source": [
    "def set_character_limit(character_limit, text):\n",
    "    tweet_tokenizer = TweetTokenizer()\n",
    "    word_tokens = tweet_tokenizer.tokenize(text) \n",
    "    \n",
    "    sentence = [\" \".join([w]) for w in word_tokens if len(sentence)<character_limit]\n",
    "    \n",
    "    return sentence\n",
    "    "
   ]
  },
  {
   "cell_type": "code",
   "execution_count": 138,
   "metadata": {},
   "outputs": [],
   "source": [
    "\n",
    "def clean_claims(sample):\n",
    "    # #Cleaning step 1 - getting rid of \\n appearances and weird spaces\n",
    "    # sample['claim'] = sample.claim.apply(lambda x: x.strip())\n",
    "\n",
    "    # #Cleaning from all special characters - note the \\w'\\w is to avoid removing the ' in don't, won't they've etc.\n",
    "    # sample['claim'] = sample.claim.apply(lambda x: re.sub(r'[^a-zA-Z0-9 \\w\\'\\w \\.,]', '', x))\n",
    "\n",
    "    # Removing \"Says\" in the beginning of a statement around 1000 claim quotes in the sample have this sentence structure.\n",
    "    # Fine to remove as the quote after is the essence of the claim.\n",
    "    sample['claim'] = sample.claim.apply(lambda x: re.sub(r'^Says', '', x).strip())\n",
    "    \n",
    "    # remove stopwords - done in order to avoid query errors such as:\n",
    "    # \"There were errors processing your request: Ambiguous use of and as a keyword. Use a space to logically join two clauses, or \\\"and\\\" to find occurrences of and in text\n",
    "    sample['claim'] = sample.claim.apply(lambda x: remove_excluded_words(x))\n",
    "    \n",
    "\n",
    "def reshape_date_format(sample):\n",
    "    sample['date'] = sample.date.apply(lambda x: str(datetime.strptime(x, '%B %d, %Y').isoformat()+\"Z\"))\n",
    "    "
   ]
  },
  {
   "cell_type": "code",
   "execution_count": 139,
   "metadata": {},
   "outputs": [],
   "source": [
    "    \n",
    "#Cleaning and preparation\n",
    "clean_claims(sample)\n",
    "reshape_date_format(sample)\n",
    "\n"
   ]
  },
  {
   "cell_type": "code",
   "execution_count": 150,
   "metadata": {},
   "outputs": [
    {
     "data": {
      "text/plain": [
       "'United States 10,000 IRS agents making sure take improper charity deduction fight terrorism less two dozen people focusing countering violent extremism home'"
      ]
     },
     "execution_count": 150,
     "metadata": {},
     "output_type": "execute_result"
    }
   ],
   "source": [
    "#sample.claim[test][0:140]\n",
    "\n",
    "sample.claim[0]"
   ]
  },
  {
   "cell_type": "code",
   "execution_count": 70,
   "metadata": {},
   "outputs": [],
   "source": [
    "date = 'November 25, 2018'\n",
    "datet = str(datetime.strptime(date, '%B %d, %Y').isoformat()+\"Z\")"
   ]
  },
  {
   "cell_type": "code",
   "execution_count": 71,
   "metadata": {},
   "outputs": [
    {
     "data": {
      "text/plain": [
       "'2018-11-25T00:00:00Z'"
      ]
     },
     "execution_count": 71,
     "metadata": {},
     "output_type": "execute_result"
    }
   ],
   "source": [
    "datet"
   ]
  },
  {
   "cell_type": "code",
   "execution_count": 53,
   "metadata": {},
   "outputs": [
    {
     "name": "stdout",
     "output_type": "stream",
     "text": [
      "<class 'datetime.date'>\n"
     ]
    }
   ],
   "source": [
    "date_str = '09-19-2018'\n",
    "\n",
    "date_object = datetime.strptime(date_str, '%m-%d-%Y')[0:-4].date()\n"
   ]
  },
  {
   "cell_type": "code",
   "execution_count": 74,
   "metadata": {},
   "outputs": [
    {
     "data": {
      "text/plain": [
       "'2022-09-29T11:19:05.86Z'"
      ]
     },
     "execution_count": 74,
     "metadata": {},
     "output_type": "execute_result"
    }
   ],
   "source": [
    "str(datetime.today().isoformat()[0:-4]+\"Z\")"
   ]
  },
  {
   "cell_type": "code",
   "execution_count": null,
   "metadata": {},
   "outputs": [],
   "source": []
  },
  {
   "cell_type": "code",
   "execution_count": 2,
   "metadata": {},
   "outputs": [],
   "source": [
    "import pandas as pd"
   ]
  },
  {
   "cell_type": "code",
   "execution_count": 4,
   "metadata": {},
   "outputs": [],
   "source": [
    "dir = Directories()"
   ]
  },
  {
   "cell_type": "code",
   "execution_count": null,
   "metadata": {},
   "outputs": [],
   "source": [
    "df = pd.read_csv(str(dir.DATA_PATH)+\"/fakenews_sources/politifact_scrape_7t_03102022.csv\")"
   ]
  },
  {
   "cell_type": "code",
   "execution_count": 107,
   "metadata": {},
   "outputs": [
    {
     "data": {
      "text/html": [
       "<div>\n",
       "<style scoped>\n",
       "    .dataframe tbody tr th:only-of-type {\n",
       "        vertical-align: middle;\n",
       "    }\n",
       "\n",
       "    .dataframe tbody tr th {\n",
       "        vertical-align: top;\n",
       "    }\n",
       "\n",
       "    .dataframe thead th {\n",
       "        text-align: right;\n",
       "    }\n",
       "</style>\n",
       "<table border=\"1\" class=\"dataframe\">\n",
       "  <thead>\n",
       "    <tr style=\"text-align: right;\">\n",
       "      <th></th>\n",
       "      <th>Unnamed: 0</th>\n",
       "      <th>claim</th>\n",
       "      <th>origin</th>\n",
       "      <th>URL</th>\n",
       "      <th>truth_value</th>\n",
       "      <th>stated_on</th>\n",
       "      <th>topic</th>\n",
       "    </tr>\n",
       "  </thead>\n",
       "  <tbody>\n",
       "    <tr>\n",
       "      <th>4930</th>\n",
       "      <td>4930</td>\n",
       "      <td>A video shows Ukraine President Volodymyr Zele...</td>\n",
       "      <td>YouTube videos</td>\n",
       "      <td>https://www.politifact.com/factchecks/2022/mar...</td>\n",
       "      <td>false</td>\n",
       "      <td>March 19, 2022</td>\n",
       "      <td>ukraine</td>\n",
       "    </tr>\n",
       "    <tr>\n",
       "      <th>4931</th>\n",
       "      <td>4931</td>\n",
       "      <td>A photo of President Joe Biden leaving for Eur...</td>\n",
       "      <td>YouTube videos</td>\n",
       "      <td>https://www.politifact.com/factchecks/2022/mar...</td>\n",
       "      <td>false</td>\n",
       "      <td>March 23, 2022</td>\n",
       "      <td>ukraine</td>\n",
       "    </tr>\n",
       "    <tr>\n",
       "      <th>4932</th>\n",
       "      <td>4932</td>\n",
       "      <td>“The Simpsons” predicted Russia’s invasion of ...</td>\n",
       "      <td>YouTube videos</td>\n",
       "      <td>https://www.politifact.com/factchecks/2022/mar...</td>\n",
       "      <td>false</td>\n",
       "      <td>March 5, 2022</td>\n",
       "      <td>ukraine</td>\n",
       "    </tr>\n",
       "    <tr>\n",
       "      <th>4933</th>\n",
       "      <td>4933</td>\n",
       "      <td>Ukrainian President Volodymyr Zelensky wore a ...</td>\n",
       "      <td>YouTube videos</td>\n",
       "      <td>https://www.politifact.com/factchecks/2022/mar...</td>\n",
       "      <td>false</td>\n",
       "      <td>March 16, 2022</td>\n",
       "      <td>ukraine</td>\n",
       "    </tr>\n",
       "    <tr>\n",
       "      <th>4934</th>\n",
       "      <td>4934</td>\n",
       "      <td>CNN tweeted a picture of a Serbian resort and ...</td>\n",
       "      <td>YouTube videos</td>\n",
       "      <td>https://www.politifact.com/factchecks/2022/mar...</td>\n",
       "      <td>false</td>\n",
       "      <td>March 21, 2022</td>\n",
       "      <td>ukraine</td>\n",
       "    </tr>\n",
       "    <tr>\n",
       "      <th>4935</th>\n",
       "      <td>4935</td>\n",
       "      <td>Video shows “Russian soldiers using weapons th...</td>\n",
       "      <td>YouTube videos</td>\n",
       "      <td>https://www.politifact.com/factchecks/2022/mar...</td>\n",
       "      <td>false</td>\n",
       "      <td>March 13, 2022</td>\n",
       "      <td>ukraine</td>\n",
       "    </tr>\n",
       "    <tr>\n",
       "      <th>4936</th>\n",
       "      <td>4936</td>\n",
       "      <td>The Russian airstrike on a maternity hospital ...</td>\n",
       "      <td>YouTube videos</td>\n",
       "      <td>https://www.politifact.com/factchecks/2022/mar...</td>\n",
       "      <td>pants-fire</td>\n",
       "      <td>March 11, 2022</td>\n",
       "      <td>ukraine</td>\n",
       "    </tr>\n",
       "    <tr>\n",
       "      <th>4937</th>\n",
       "      <td>4937</td>\n",
       "      <td>“Ukraine has been shooting residents of Donets...</td>\n",
       "      <td>YouTube videos</td>\n",
       "      <td>https://www.politifact.com/factchecks/2022/mar...</td>\n",
       "      <td>false</td>\n",
       "      <td>March 20, 2022</td>\n",
       "      <td>ukraine</td>\n",
       "    </tr>\n",
       "    <tr>\n",
       "      <th>4938</th>\n",
       "      <td>4938</td>\n",
       "      <td>Photos show “Ukrainian farmers are slowly star...</td>\n",
       "      <td>YouTube videos</td>\n",
       "      <td>https://www.politifact.com/factchecks/2022/mar...</td>\n",
       "      <td>false</td>\n",
       "      <td>March 16, 2022</td>\n",
       "      <td>ukraine</td>\n",
       "    </tr>\n",
       "    <tr>\n",
       "      <th>4939</th>\n",
       "      <td>4939</td>\n",
       "      <td>Russian President Vladimir Putin “was assassin...</td>\n",
       "      <td>YouTube videos</td>\n",
       "      <td>https://www.politifact.com/factchecks/2022/mar...</td>\n",
       "      <td>pants-fire</td>\n",
       "      <td>March 19, 2022</td>\n",
       "      <td>ukraine</td>\n",
       "    </tr>\n",
       "    <tr>\n",
       "      <th>4940</th>\n",
       "      <td>4940</td>\n",
       "      <td>“Putin Vows to ‘Crush’ Child Traffickers in Uk...</td>\n",
       "      <td>YouTube videos</td>\n",
       "      <td>https://www.politifact.com/factchecks/2022/mar...</td>\n",
       "      <td>false</td>\n",
       "      <td>March 2, 2022</td>\n",
       "      <td>ukraine</td>\n",
       "    </tr>\n",
       "    <tr>\n",
       "      <th>4941</th>\n",
       "      <td>4941</td>\n",
       "      <td>A photo shows \"NATO resupplying Ukrainian farm...</td>\n",
       "      <td>YouTube videos</td>\n",
       "      <td>https://www.politifact.com/factchecks/2022/mar...</td>\n",
       "      <td>false</td>\n",
       "      <td>March 10, 2022</td>\n",
       "      <td>ukraine</td>\n",
       "    </tr>\n",
       "    <tr>\n",
       "      <th>4942</th>\n",
       "      <td>4942</td>\n",
       "      <td>\"What is happening here is not so different fr...</td>\n",
       "      <td>YouTube videos</td>\n",
       "      <td>https://www.politifact.com/factchecks/2022/mar...</td>\n",
       "      <td>pants-fire</td>\n",
       "      <td>March 15, 2022</td>\n",
       "      <td>ukraine</td>\n",
       "    </tr>\n",
       "    <tr>\n",
       "      <th>4943</th>\n",
       "      <td>4943</td>\n",
       "      <td>A recent on-air protest can’t be real because ...</td>\n",
       "      <td>YouTube videos</td>\n",
       "      <td>https://www.politifact.com/factchecks/2022/mar...</td>\n",
       "      <td>false</td>\n",
       "      <td>March 15, 2022</td>\n",
       "      <td>ukraine</td>\n",
       "    </tr>\n",
       "    <tr>\n",
       "      <th>4944</th>\n",
       "      <td>4944</td>\n",
       "      <td>A video shows current “leaked footage of heavy...</td>\n",
       "      <td>YouTube videos</td>\n",
       "      <td>https://www.politifact.com/factchecks/2022/mar...</td>\n",
       "      <td>false</td>\n",
       "      <td>March 15, 2022</td>\n",
       "      <td>ukraine</td>\n",
       "    </tr>\n",
       "    <tr>\n",
       "      <th>4945</th>\n",
       "      <td>4945</td>\n",
       "      <td>“A West Virginia inspection sticker on an Uber...</td>\n",
       "      <td>YouTube videos</td>\n",
       "      <td>https://www.politifact.com/factchecks/2022/mar...</td>\n",
       "      <td>false</td>\n",
       "      <td>March 13, 2022</td>\n",
       "      <td>ukraine</td>\n",
       "    </tr>\n",
       "    <tr>\n",
       "      <th>4946</th>\n",
       "      <td>4946</td>\n",
       "      <td>A video shows “massive explosion as Ukraine de...</td>\n",
       "      <td>YouTube videos</td>\n",
       "      <td>https://www.politifact.com/factchecks/2022/mar...</td>\n",
       "      <td>false</td>\n",
       "      <td>March 12, 2022</td>\n",
       "      <td>ukraine</td>\n",
       "    </tr>\n",
       "    <tr>\n",
       "      <th>4947</th>\n",
       "      <td>4947</td>\n",
       "      <td>“Wladimir Klitschko has auctioned off his 1996...</td>\n",
       "      <td>YouTube videos</td>\n",
       "      <td>https://www.politifact.com/factchecks/2022/mar...</td>\n",
       "      <td>half-true</td>\n",
       "      <td>March 14, 2022</td>\n",
       "      <td>ukraine</td>\n",
       "    </tr>\n",
       "    <tr>\n",
       "      <th>4948</th>\n",
       "      <td>4948</td>\n",
       "      <td>“Make no mistake: The current spike in gas pri...</td>\n",
       "      <td>YouTube videos</td>\n",
       "      <td>https://www.politifact.com/factchecks/2022/mar...</td>\n",
       "      <td>mostly-true</td>\n",
       "      <td>March 14, 2022</td>\n",
       "      <td>ukraine</td>\n",
       "    </tr>\n",
       "    <tr>\n",
       "      <th>4949</th>\n",
       "      <td>4949</td>\n",
       "      <td>“We haven’t seen a single American megachurch ...</td>\n",
       "      <td>YouTube videos</td>\n",
       "      <td>https://www.politifact.com/factchecks/2022/mar...</td>\n",
       "      <td>false</td>\n",
       "      <td>March 7, 2022</td>\n",
       "      <td>ukraine</td>\n",
       "    </tr>\n",
       "    <tr>\n",
       "      <th>4950</th>\n",
       "      <td>4950</td>\n",
       "      <td>“While Ukrainians bled and died, Congressman B...</td>\n",
       "      <td>YouTube videos</td>\n",
       "      <td>https://www.politifact.com/factchecks/2022/mar...</td>\n",
       "      <td>barely-true</td>\n",
       "      <td>March 8, 2022</td>\n",
       "      <td>ukraine</td>\n",
       "    </tr>\n",
       "    <tr>\n",
       "      <th>4951</th>\n",
       "      <td>4951</td>\n",
       "      <td>A Ukrainian combat medic who died in February ...</td>\n",
       "      <td>YouTube videos</td>\n",
       "      <td>https://www.politifact.com/factchecks/2022/mar...</td>\n",
       "      <td>false</td>\n",
       "      <td>March 13, 2022</td>\n",
       "      <td>ukraine</td>\n",
       "    </tr>\n",
       "    <tr>\n",
       "      <th>4952</th>\n",
       "      <td>4952</td>\n",
       "      <td>Deceased Ukrainian fighter pilot Col. Oleksand...</td>\n",
       "      <td>YouTube videos</td>\n",
       "      <td>https://www.politifact.com/factchecks/2022/mar...</td>\n",
       "      <td>false</td>\n",
       "      <td>March 4, 2022</td>\n",
       "      <td>ukraine</td>\n",
       "    </tr>\n",
       "    <tr>\n",
       "      <th>4953</th>\n",
       "      <td>4953</td>\n",
       "      <td>The U.S. military has reinstated a draft, and ...</td>\n",
       "      <td>YouTube videos</td>\n",
       "      <td>https://www.politifact.com/factchecks/2022/mar...</td>\n",
       "      <td>pants-fire</td>\n",
       "      <td>February 26, 2022</td>\n",
       "      <td>ukraine</td>\n",
       "    </tr>\n",
       "    <tr>\n",
       "      <th>4954</th>\n",
       "      <td>4954</td>\n",
       "      <td>Classified documents from Ukraine “confirm wit...</td>\n",
       "      <td>YouTube videos</td>\n",
       "      <td>https://www.politifact.com/factchecks/2022/mar...</td>\n",
       "      <td>false</td>\n",
       "      <td>March 9, 2022</td>\n",
       "      <td>ukraine</td>\n",
       "    </tr>\n",
       "    <tr>\n",
       "      <th>4955</th>\n",
       "      <td>4955</td>\n",
       "      <td>“Vice President Kamala Harris laughs at the pl...</td>\n",
       "      <td>YouTube videos</td>\n",
       "      <td>https://www.politifact.com/factchecks/2022/mar...</td>\n",
       "      <td>false</td>\n",
       "      <td>March 10, 2022</td>\n",
       "      <td>ukraine</td>\n",
       "    </tr>\n",
       "    <tr>\n",
       "      <th>4956</th>\n",
       "      <td>4956</td>\n",
       "      <td>This video shows “Russian war in Ukraine.”</td>\n",
       "      <td>YouTube videos</td>\n",
       "      <td>https://www.politifact.com/factchecks/2022/mar...</td>\n",
       "      <td>false</td>\n",
       "      <td>March 7, 2022</td>\n",
       "      <td>ukraine</td>\n",
       "    </tr>\n",
       "    <tr>\n",
       "      <th>4957</th>\n",
       "      <td>4957</td>\n",
       "      <td>Says Leonardo DiCaprio gave Ukraine $10 million.</td>\n",
       "      <td>YouTube videos</td>\n",
       "      <td>https://www.politifact.com/factchecks/2022/mar...</td>\n",
       "      <td>false</td>\n",
       "      <td>March 5, 2022</td>\n",
       "      <td>ukraine</td>\n",
       "    </tr>\n",
       "    <tr>\n",
       "      <th>4958</th>\n",
       "      <td>4958</td>\n",
       "      <td>China: U.S. has biological weapons labs in Ukr...</td>\n",
       "      <td>YouTube videos</td>\n",
       "      <td>https://www.politifact.com/factchecks/2022/mar...</td>\n",
       "      <td>false</td>\n",
       "      <td>March 9, 2022</td>\n",
       "      <td>ukraine</td>\n",
       "    </tr>\n",
       "    <tr>\n",
       "      <th>4959</th>\n",
       "      <td>4959</td>\n",
       "      <td>Video shows Volodymr Zelensky singing “Endless...</td>\n",
       "      <td>YouTube videos</td>\n",
       "      <td>https://www.politifact.com/factchecks/2022/mar...</td>\n",
       "      <td>false</td>\n",
       "      <td>March 8, 2022</td>\n",
       "      <td>ukraine</td>\n",
       "    </tr>\n",
       "  </tbody>\n",
       "</table>\n",
       "</div>"
      ],
      "text/plain": [
       "      Unnamed: 0                                              claim  \\\n",
       "4930        4930  A video shows Ukraine President Volodymyr Zele...   \n",
       "4931        4931  A photo of President Joe Biden leaving for Eur...   \n",
       "4932        4932  “The Simpsons” predicted Russia’s invasion of ...   \n",
       "4933        4933  Ukrainian President Volodymyr Zelensky wore a ...   \n",
       "4934        4934  CNN tweeted a picture of a Serbian resort and ...   \n",
       "4935        4935  Video shows “Russian soldiers using weapons th...   \n",
       "4936        4936  The Russian airstrike on a maternity hospital ...   \n",
       "4937        4937  “Ukraine has been shooting residents of Donets...   \n",
       "4938        4938  Photos show “Ukrainian farmers are slowly star...   \n",
       "4939        4939  Russian President Vladimir Putin “was assassin...   \n",
       "4940        4940  “Putin Vows to ‘Crush’ Child Traffickers in Uk...   \n",
       "4941        4941  A photo shows \"NATO resupplying Ukrainian farm...   \n",
       "4942        4942  \"What is happening here is not so different fr...   \n",
       "4943        4943  A recent on-air protest can’t be real because ...   \n",
       "4944        4944  A video shows current “leaked footage of heavy...   \n",
       "4945        4945  “A West Virginia inspection sticker on an Uber...   \n",
       "4946        4946  A video shows “massive explosion as Ukraine de...   \n",
       "4947        4947  “Wladimir Klitschko has auctioned off his 1996...   \n",
       "4948        4948  “Make no mistake: The current spike in gas pri...   \n",
       "4949        4949  “We haven’t seen a single American megachurch ...   \n",
       "4950        4950  “While Ukrainians bled and died, Congressman B...   \n",
       "4951        4951  A Ukrainian combat medic who died in February ...   \n",
       "4952        4952  Deceased Ukrainian fighter pilot Col. Oleksand...   \n",
       "4953        4953  The U.S. military has reinstated a draft, and ...   \n",
       "4954        4954  Classified documents from Ukraine “confirm wit...   \n",
       "4955        4955  “Vice President Kamala Harris laughs at the pl...   \n",
       "4956        4956         This video shows “Russian war in Ukraine.”   \n",
       "4957        4957   Says Leonardo DiCaprio gave Ukraine $10 million.   \n",
       "4958        4958  China: U.S. has biological weapons labs in Ukr...   \n",
       "4959        4959  Video shows Volodymr Zelensky singing “Endless...   \n",
       "\n",
       "              origin                                                URL  \\\n",
       "4930  YouTube videos  https://www.politifact.com/factchecks/2022/mar...   \n",
       "4931  YouTube videos  https://www.politifact.com/factchecks/2022/mar...   \n",
       "4932  YouTube videos  https://www.politifact.com/factchecks/2022/mar...   \n",
       "4933  YouTube videos  https://www.politifact.com/factchecks/2022/mar...   \n",
       "4934  YouTube videos  https://www.politifact.com/factchecks/2022/mar...   \n",
       "4935  YouTube videos  https://www.politifact.com/factchecks/2022/mar...   \n",
       "4936  YouTube videos  https://www.politifact.com/factchecks/2022/mar...   \n",
       "4937  YouTube videos  https://www.politifact.com/factchecks/2022/mar...   \n",
       "4938  YouTube videos  https://www.politifact.com/factchecks/2022/mar...   \n",
       "4939  YouTube videos  https://www.politifact.com/factchecks/2022/mar...   \n",
       "4940  YouTube videos  https://www.politifact.com/factchecks/2022/mar...   \n",
       "4941  YouTube videos  https://www.politifact.com/factchecks/2022/mar...   \n",
       "4942  YouTube videos  https://www.politifact.com/factchecks/2022/mar...   \n",
       "4943  YouTube videos  https://www.politifact.com/factchecks/2022/mar...   \n",
       "4944  YouTube videos  https://www.politifact.com/factchecks/2022/mar...   \n",
       "4945  YouTube videos  https://www.politifact.com/factchecks/2022/mar...   \n",
       "4946  YouTube videos  https://www.politifact.com/factchecks/2022/mar...   \n",
       "4947  YouTube videos  https://www.politifact.com/factchecks/2022/mar...   \n",
       "4948  YouTube videos  https://www.politifact.com/factchecks/2022/mar...   \n",
       "4949  YouTube videos  https://www.politifact.com/factchecks/2022/mar...   \n",
       "4950  YouTube videos  https://www.politifact.com/factchecks/2022/mar...   \n",
       "4951  YouTube videos  https://www.politifact.com/factchecks/2022/mar...   \n",
       "4952  YouTube videos  https://www.politifact.com/factchecks/2022/mar...   \n",
       "4953  YouTube videos  https://www.politifact.com/factchecks/2022/mar...   \n",
       "4954  YouTube videos  https://www.politifact.com/factchecks/2022/mar...   \n",
       "4955  YouTube videos  https://www.politifact.com/factchecks/2022/mar...   \n",
       "4956  YouTube videos  https://www.politifact.com/factchecks/2022/mar...   \n",
       "4957  YouTube videos  https://www.politifact.com/factchecks/2022/mar...   \n",
       "4958  YouTube videos  https://www.politifact.com/factchecks/2022/mar...   \n",
       "4959  YouTube videos  https://www.politifact.com/factchecks/2022/mar...   \n",
       "\n",
       "      truth_value          stated_on    topic  \n",
       "4930        false     March 19, 2022  ukraine  \n",
       "4931        false     March 23, 2022  ukraine  \n",
       "4932        false      March 5, 2022  ukraine  \n",
       "4933        false     March 16, 2022  ukraine  \n",
       "4934        false     March 21, 2022  ukraine  \n",
       "4935        false     March 13, 2022  ukraine  \n",
       "4936   pants-fire     March 11, 2022  ukraine  \n",
       "4937        false     March 20, 2022  ukraine  \n",
       "4938        false     March 16, 2022  ukraine  \n",
       "4939   pants-fire     March 19, 2022  ukraine  \n",
       "4940        false      March 2, 2022  ukraine  \n",
       "4941        false     March 10, 2022  ukraine  \n",
       "4942   pants-fire     March 15, 2022  ukraine  \n",
       "4943        false     March 15, 2022  ukraine  \n",
       "4944        false     March 15, 2022  ukraine  \n",
       "4945        false     March 13, 2022  ukraine  \n",
       "4946        false     March 12, 2022  ukraine  \n",
       "4947    half-true     March 14, 2022  ukraine  \n",
       "4948  mostly-true     March 14, 2022  ukraine  \n",
       "4949        false      March 7, 2022  ukraine  \n",
       "4950  barely-true      March 8, 2022  ukraine  \n",
       "4951        false     March 13, 2022  ukraine  \n",
       "4952        false      March 4, 2022  ukraine  \n",
       "4953   pants-fire  February 26, 2022  ukraine  \n",
       "4954        false      March 9, 2022  ukraine  \n",
       "4955        false     March 10, 2022  ukraine  \n",
       "4956        false      March 7, 2022  ukraine  \n",
       "4957        false      March 5, 2022  ukraine  \n",
       "4958        false      March 9, 2022  ukraine  \n",
       "4959        false      March 8, 2022  ukraine  "
      ]
     },
     "execution_count": 107,
     "metadata": {},
     "output_type": "execute_result"
    }
   ],
   "source": [
    "#df.groupby(df.origin).count()\n",
    "\n",
    "df[df.origin=='Instagram posts'].count()\n",
    "\n"
   ]
  },
  {
   "cell_type": "code",
   "execution_count": 8,
   "metadata": {},
   "outputs": [],
   "source": [
    "sample = pd.read_csv(\"sample_tweets_for_run0310.csv\")"
   ]
  },
  {
   "cell_type": "code",
   "execution_count": 27,
   "metadata": {},
   "outputs": [],
   "source": [
    "from matplotlib import pyplot as plt"
   ]
  },
  {
   "cell_type": "code",
   "execution_count": 46,
   "metadata": {},
   "outputs": [],
   "source": [
    "x = df.groupby(df.origin).count().claim.index\n",
    "y = df.groupby(df.origin).count().claim.values"
   ]
  },
  {
   "cell_type": "code",
   "execution_count": 83,
   "metadata": {},
   "outputs": [
    {
     "data": {
      "text/html": [
       "<div>\n",
       "<style scoped>\n",
       "    .dataframe tbody tr th:only-of-type {\n",
       "        vertical-align: middle;\n",
       "    }\n",
       "\n",
       "    .dataframe tbody tr th {\n",
       "        vertical-align: top;\n",
       "    }\n",
       "\n",
       "    .dataframe thead th {\n",
       "        text-align: right;\n",
       "    }\n",
       "</style>\n",
       "<table border=\"1\" class=\"dataframe\">\n",
       "  <thead>\n",
       "    <tr style=\"text-align: right;\">\n",
       "      <th></th>\n",
       "      <th>claim</th>\n",
       "    </tr>\n",
       "  </thead>\n",
       "  <tbody>\n",
       "    <tr>\n",
       "      <th>count</th>\n",
       "      <td>106.000000</td>\n",
       "    </tr>\n",
       "    <tr>\n",
       "      <th>mean</th>\n",
       "      <td>47.160377</td>\n",
       "    </tr>\n",
       "    <tr>\n",
       "      <th>std</th>\n",
       "      <td>79.982276</td>\n",
       "    </tr>\n",
       "    <tr>\n",
       "      <th>min</th>\n",
       "      <td>11.000000</td>\n",
       "    </tr>\n",
       "    <tr>\n",
       "      <th>25%</th>\n",
       "      <td>30.000000</td>\n",
       "    </tr>\n",
       "    <tr>\n",
       "      <th>50%</th>\n",
       "      <td>30.000000</td>\n",
       "    </tr>\n",
       "    <tr>\n",
       "      <th>75%</th>\n",
       "      <td>30.000000</td>\n",
       "    </tr>\n",
       "    <tr>\n",
       "      <th>max</th>\n",
       "      <td>759.000000</td>\n",
       "    </tr>\n",
       "  </tbody>\n",
       "</table>\n",
       "</div>"
      ],
      "text/plain": [
       "            claim\n",
       "count  106.000000\n",
       "mean    47.160377\n",
       "std     79.982276\n",
       "min     11.000000\n",
       "25%     30.000000\n",
       "50%     30.000000\n",
       "75%     30.000000\n",
       "max    759.000000"
      ]
     },
     "execution_count": 83,
     "metadata": {},
     "output_type": "execute_result"
    }
   ],
   "source": [
    "view = df.groupby(df.origin).count().claim.to_frame()\n",
    "\n",
    "view.describe()\n"
   ]
  },
  {
   "cell_type": "code",
   "execution_count": 112,
   "metadata": {},
   "outputs": [
    {
     "data": {
      "text/html": [
       "<div>\n",
       "<style scoped>\n",
       "    .dataframe tbody tr th:only-of-type {\n",
       "        vertical-align: middle;\n",
       "    }\n",
       "\n",
       "    .dataframe tbody tr th {\n",
       "        vertical-align: top;\n",
       "    }\n",
       "\n",
       "    .dataframe thead th {\n",
       "        text-align: right;\n",
       "    }\n",
       "</style>\n",
       "<table border=\"1\" class=\"dataframe\">\n",
       "  <thead>\n",
       "    <tr style=\"text-align: right;\">\n",
       "      <th></th>\n",
       "      <th>claim</th>\n",
       "    </tr>\n",
       "    <tr>\n",
       "      <th>origin</th>\n",
       "      <th></th>\n",
       "    </tr>\n",
       "  </thead>\n",
       "  <tbody>\n",
       "    <tr>\n",
       "      <th>Chris Dodd</th>\n",
       "      <td>11</td>\n",
       "    </tr>\n",
       "    <tr>\n",
       "      <th>EnergyCitizens.org</th>\n",
       "      <td>13</td>\n",
       "    </tr>\n",
       "    <tr>\n",
       "      <th>Glenn Beck</th>\n",
       "      <td>25</td>\n",
       "    </tr>\n",
       "    <tr>\n",
       "      <th>John Boehner</th>\n",
       "      <td>25</td>\n",
       "    </tr>\n",
       "    <tr>\n",
       "      <th>Occupy Democrats</th>\n",
       "      <td>30</td>\n",
       "    </tr>\n",
       "    <tr>\n",
       "      <th>...</th>\n",
       "      <td>...</td>\n",
       "    </tr>\n",
       "    <tr>\n",
       "      <th>Bloggers</th>\n",
       "      <td>180</td>\n",
       "    </tr>\n",
       "    <tr>\n",
       "      <th>Viral image</th>\n",
       "      <td>210</td>\n",
       "    </tr>\n",
       "    <tr>\n",
       "      <th>Instagram posts</th>\n",
       "      <td>240</td>\n",
       "    </tr>\n",
       "    <tr>\n",
       "      <th>Donald Trump</th>\n",
       "      <td>270</td>\n",
       "    </tr>\n",
       "    <tr>\n",
       "      <th>Facebook posts</th>\n",
       "      <td>759</td>\n",
       "    </tr>\n",
       "  </tbody>\n",
       "</table>\n",
       "<p>106 rows × 1 columns</p>\n",
       "</div>"
      ],
      "text/plain": [
       "                    claim\n",
       "origin                   \n",
       "Chris Dodd             11\n",
       "EnergyCitizens.org     13\n",
       "Glenn Beck             25\n",
       "John Boehner           25\n",
       "Occupy Democrats       30\n",
       "...                   ...\n",
       "Bloggers              180\n",
       "Viral image           210\n",
       "Instagram posts       240\n",
       "Donald Trump          270\n",
       "Facebook posts        759\n",
       "\n",
       "[106 rows x 1 columns]"
      ]
     },
     "execution_count": 112,
     "metadata": {},
     "output_type": "execute_result"
    }
   ],
   "source": [
    "view.sort_values(by='claim')"
   ]
  },
  {
   "cell_type": "code",
   "execution_count": 48,
   "metadata": {},
   "outputs": [
    {
     "data": {
      "text/plain": [
       "<BarContainer object of 106 artists>"
      ]
     },
     "execution_count": 48,
     "metadata": {},
     "output_type": "execute_result"
    },
    {
     "data": {
      "image/png": "[encoded data removed]",
      "text/plain": [
       "<Figure size 432x288 with 1 Axes>"
      ]
     },
     "metadata": {
      "needs_background": "light"
     },
     "output_type": "display_data"
    }
   ],
   "source": [
    "plt.bar(x, y)"
   ]
  },
  {
   "cell_type": "code",
   "execution_count": 14,
   "metadata": {},
   "outputs": [],
   "source": [
    "from fake_collector.utils.read_lst_jsons import read_lst_of_json_objects"
   ]
  },
  {
   "cell_type": "code",
   "execution_count": 19,
   "metadata": {},
   "outputs": [],
   "source": [
    "tweets = read_lst_of_json_objects(\"data/fakenews_tw_output/00001_5_environment_false_2022-07-21.json\")"
   ]
  },
  {
   "cell_type": "code",
   "execution_count": 24,
   "metadata": {},
   "outputs": [
    {
     "data": {
      "text/plain": [
       "119"
      ]
     },
     "execution_count": 24,
     "metadata": {},
     "output_type": "execute_result"
    }
   ],
   "source": [
    "len(tweets[0]['data'])"
   ]
  }
 ],
 "metadata": {
  "kernelspec": {
   "display_name": "Python 3.9.7 ('base')",
   "language": "python",
   "name": "python3"
  },
  "language_info": {
   "codemirror_mode": {
    "name": "ipython",
    "version": 3
   },
   "file_extension": ".py",
   "mimetype": "text/x-python",
   "name": "python",
   "nbconvert_exporter": "python",
   "pygments_lexer": "ipython3",
   "version": "3.9.7"
  },
  "orig_nbformat": 4,
  "vscode": {
   "interpreter": {
    "hash": "36e2581dfb10b7e3de3547be529c2e8e9e4d59798f578734b808d68ebdb931d0"
   }
  }
 },
 "nbformat": 4,
 "nbformat_minor": 2
}
